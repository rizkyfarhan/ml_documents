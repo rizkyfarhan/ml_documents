{
 "cells": [
  {
   "cell_type": "markdown",
   "metadata": {},
   "source": [
    "## Unsupervised Learning"
   ]
  },
  {
   "cell_type": "markdown",
   "metadata": {},
   "source": [
    "- tidak memiliki target (y) seperti supervised learning\n",
    "- yang biasa digunakan:\n",
    "    - PCA\n",
    "    - Clustering"
   ]
  },
  {
   "cell_type": "markdown",
   "metadata": {},
   "source": [
    "## Clustering"
   ]
  },
  {
   "cell_type": "markdown",
   "metadata": {},
   "source": [
    "- aplikasi clustering:\n",
    "    - segmentasi customer\n",
    "    - identifikasi topik\n",
    "- jenis clustering:\n",
    "    1. cluster hierarki : fokus terhadap jarak, data terbatas\n",
    "        - dendogram\n",
    "    2. cluster non-hierarki : data besar\n",
    "        - k-means"
   ]
  },
  {
   "cell_type": "markdown",
   "metadata": {},
   "source": [
    "## Pengukuran Jarak"
   ]
  },
  {
   "cell_type": "markdown",
   "metadata": {},
   "source": [
    "- Fitur Numerik:\n",
    "    1. Euclidean\n",
    "    2. Manhattan\n",
    "- Fitur Kategorikal:\n",
    "    1. Jaccard Index\n",
    "- Fitur High-Dimensional:\n",
    "    1. Cosine Similarity"
   ]
  },
  {
   "cell_type": "code",
   "execution_count": null,
   "metadata": {},
   "outputs": [],
   "source": []
  }
 ],
 "metadata": {
  "kernelspec": {
   "display_name": "Python 3",
   "language": "python",
   "name": "python3"
  },
  "language_info": {
   "codemirror_mode": {
    "name": "ipython",
    "version": 3
   },
   "file_extension": ".py",
   "mimetype": "text/x-python",
   "name": "python",
   "nbconvert_exporter": "python",
   "pygments_lexer": "ipython3",
   "version": "3.7.6"
  }
 },
 "nbformat": 4,
 "nbformat_minor": 4
}
